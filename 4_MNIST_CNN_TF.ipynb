{
  "nbformat": 4,
  "nbformat_minor": 0,
  "metadata": {
    "colab": {
      "name": "4. MNIST_CNN_TF",
      "provenance": []
    },
    "kernelspec": {
      "name": "python3",
      "display_name": "Python 3"
    },
    "accelerator": "GPU"
  },
  "cells": [
    {
      "cell_type": "code",
      "metadata": {
        "id": "xsZT-mIHmoOb",
        "colab_type": "code",
        "colab": {}
      },
      "source": [
        "#!pip install tensorflow==1.0                #Restart Runtime"
      ],
      "execution_count": 0,
      "outputs": []
    },
    {
      "cell_type": "code",
      "metadata": {
        "id": "FfNf5nWNyLbF",
        "colab_type": "code",
        "colab": {}
      },
      "source": [
        "import tensorflow as tf"
      ],
      "execution_count": 0,
      "outputs": []
    },
    {
      "cell_type": "code",
      "metadata": {
        "id": "5R54pRiFyNer",
        "colab_type": "code",
        "colab": {}
      },
      "source": [
        "from tensorflow.examples.tutorials.mnist import input_data\n",
        "mnist = input_data.read_data_sets(\"MNIST_data/\",one_hot=True)"
      ],
      "execution_count": 0,
      "outputs": []
    },
    {
      "cell_type": "code",
      "metadata": {
        "id": "AU_X4L2EyWws",
        "colab_type": "code",
        "colab": {}
      },
      "source": [
        "input_width = 28\n",
        "input_height = 28\n",
        "input_channels = 1\n",
        "input_pixels = 784               #input_width*input_height\n",
        "\n",
        "n_Conv1 = 32\n",
        "conv1_k = 5\n",
        "stride_Conv1 = 1\n",
        "max_pool1_k = 2\n",
        "\n",
        "n_Conv2 = 64\n",
        "conv2_k = 5\n",
        "stride_Conv2 = 1\n",
        "max_pool2_k = 2\n",
        "\n",
        "n_hidden = 1024\n",
        "n_out = 10\n",
        "\n",
        "input_size_to_hidden = (input_height//(max_pool1_k*max_pool2_k)) * (input_height//(max_pool1_k*max_pool2_k)) * n_Conv2"
      ],
      "execution_count": 0,
      "outputs": []
    },
    {
      "cell_type": "code",
      "metadata": {
        "id": "LUGD6x-5ytVI",
        "colab_type": "code",
        "colab": {}
      },
      "source": [
        "weights = {\n",
        "    \n",
        "    \"wc1\" : tf.Variable(tf.random_normal([conv1_k,conv1_k,input_channels,n_Conv1])),\n",
        "    \"wc2\" : tf.Variable(tf.random_normal([conv2_k,conv2_k,n_Conv1,n_Conv2])),\n",
        "    \"wh1\" : tf.Variable(tf.random_normal([input_size_to_hidden,n_hidden])),\n",
        "    \"wo\" : tf.Variable(tf.random_normal([n_hidden,n_out]))\n",
        "}\n",
        "\n",
        "biases = {\n",
        "    \n",
        "    \"bc1\" : tf.Variable(tf.random_normal([n_Conv1])),\n",
        "    \"bc2\" : tf.Variable(tf.random_normal([n_Conv2])),\n",
        "    \"bh1\" : tf.Variable(tf.random_normal([n_hidden])),\n",
        "    \"bo\" : tf.Variable(tf.random_normal([n_out]))\n",
        "}"
      ],
      "execution_count": 0,
      "outputs": []
    },
    {
      "cell_type": "code",
      "metadata": {
        "id": "gjueOSsP1Bf0",
        "colab_type": "code",
        "colab": {}
      },
      "source": [
        "def conv(x,weights,biases,stride=1):\n",
        "  out = tf.nn.conv2d(x,weights,padding=\"SAME\",strides=[1,stride,stride,1])\n",
        "  out = tf.nn.bias_add(out,biases)\n",
        "  out = tf.nn.relu(out)\n",
        "\n",
        "  return out"
      ],
      "execution_count": 0,
      "outputs": []
    },
    {
      "cell_type": "code",
      "metadata": {
        "id": "wa4i17XtBWvk",
        "colab_type": "code",
        "colab": {}
      },
      "source": [
        "def maxpooling(x,k=2):\n",
        "  return tf.nn.max_pool(x,padding=\"SAME\",ksize=[1,k,k,1],strides=[1,k,k,1])"
      ],
      "execution_count": 0,
      "outputs": []
    },
    {
      "cell_type": "code",
      "metadata": {
        "id": "hlsXMIc4B8c7",
        "colab_type": "code",
        "colab": {}
      },
      "source": [
        "def cnn(x,weights,biases,keep_prob):\n",
        "  x = tf.reshape(x,shape=[-1,input_height,input_width,input_channels])\n",
        "\n",
        "  conv1 = conv(x,weights['wc1'],biases['bc1'],stride_Conv1)\n",
        "  conv1_pool = maxpooling(conv1,max_pool1_k)\n",
        "\n",
        "  conv2 = conv(conv1_pool,weights['wc2'],biases['bc2'],stride_Conv2)\n",
        "  conv2_pool = maxpooling(conv2,max_pool2_k)\n",
        "\n",
        "  hidden_input = tf.reshape(conv2_pool,shape=[-1,input_size_to_hidden])\n",
        "\n",
        "  hidden_out_bef_act = tf.matmul(hidden_input,weights['wh1']) + biases['bh1']\n",
        "  hidden_out_bef_dropout = tf.nn.relu(hidden_out_bef_act)\n",
        "\n",
        "  hidden_out = tf.nn.dropout(hidden_out_bef_dropout,keep_prob)\n",
        "\n",
        "  output = tf.matmul(hidden_out,weights['wo']) + biases['bo']\n",
        "\n",
        "  return output"
      ],
      "execution_count": 0,
      "outputs": []
    },
    {
      "cell_type": "code",
      "metadata": {
        "id": "od7kJkePDIF1",
        "colab_type": "code",
        "colab": {}
      },
      "source": [
        "x = tf.placeholder(\"float\",[None,input_pixels])\n",
        "y = tf.placeholder(tf.int32,[None,n_out])\n",
        "keep_prob = tf.placeholder(\"float\")"
      ],
      "execution_count": 0,
      "outputs": []
    },
    {
      "cell_type": "code",
      "metadata": {
        "id": "ZloGbGahG6Av",
        "colab_type": "code",
        "colab": {}
      },
      "source": [
        "pred = cnn(x,weights,biases,keep_prob)"
      ],
      "execution_count": 0,
      "outputs": []
    },
    {
      "cell_type": "code",
      "metadata": {
        "id": "KcAOJkGzHJW_",
        "colab_type": "code",
        "colab": {}
      },
      "source": [
        "cost = tf.reduce_mean(tf.nn.softmax_cross_entropy_with_logits(logits=pred,labels=y))"
      ],
      "execution_count": 0,
      "outputs": []
    },
    {
      "cell_type": "code",
      "metadata": {
        "id": "lS9uHnmDImFp",
        "colab_type": "code",
        "colab": {}
      },
      "source": [
        "optimizer = tf.train.AdamOptimizer(learning_rate=0.01)\n",
        "optimize = optimizer.minimize(cost)"
      ],
      "execution_count": 0,
      "outputs": []
    },
    {
      "cell_type": "code",
      "metadata": {
        "id": "uuv89X75IyDN",
        "colab_type": "code",
        "colab": {}
      },
      "source": [
        "sess = tf.Session()\n",
        "sess.run(tf.global_variables_initializer())"
      ],
      "execution_count": 0,
      "outputs": []
    },
    {
      "cell_type": "code",
      "metadata": {
        "id": "OZ0jShWqIygm",
        "colab_type": "code",
        "colab": {
          "base_uri": "https://localhost:8080/",
          "height": 35
        },
        "outputId": "3b12e697-7033-4221-f167-77f4b0718711"
      },
      "source": [
        "batch_size = 100\n",
        "for i in range(25):                   #NumIterations\n",
        "  num_batches = int(mnist.train.num_examples/batch_size)\n",
        "  total_cost = 0\n",
        "  for j in range(num_batches):\n",
        "    batch_x,batch_y = mnist.train.next_batch(batch_size)\n",
        "    c , _ = sess.run([cost,optimize],feed_dict={x:batch_x,y:batch_y,keep_prob:0.8})\n",
        "    total_cost += c\n",
        "  print(int(total_cost), end=' ')"
      ],
      "execution_count": 17,
      "outputs": [
        {
          "output_type": "stream",
          "text": [
            "1064997 44464 21849 15021 11195 9601 9363 7343 7727 7454 6410 6768 4984 5090 4958 4083 4318 3645 4420 3317 3131 2981 2854 2647 2746 "
          ],
          "name": "stdout"
        }
      ]
    },
    {
      "cell_type": "code",
      "metadata": {
        "id": "eVbj9ncoI4re",
        "colab_type": "code",
        "colab": {
          "base_uri": "https://localhost:8080/",
          "height": 35
        },
        "outputId": "a40f548c-06f5-415d-fd58-ff368023a532"
      },
      "source": [
        "predictions = tf.argmax(pred,1)\n",
        "correct_labels = tf.argmax(y,1)\n",
        "\n",
        "correct_predictions = tf.equal(predictions,correct_labels)\n",
        "\n",
        "predictions, correct_predictions = sess.run([predictions,correct_predictions],feed_dict={x:mnist.test.images,y:mnist.test.labels,keep_prob:1.0})\n",
        "\n",
        "print(\"Accuracy =\", correct_predictions.sum()*100/mnist.test.num_examples,\"%\")"
      ],
      "execution_count": 18,
      "outputs": [
        {
          "output_type": "stream",
          "text": [
            "Accuracy = 98.6 %\n"
          ],
          "name": "stdout"
        }
      ]
    },
    {
      "cell_type": "code",
      "metadata": {
        "id": "0wdrLUaE2L2h",
        "colab_type": "code",
        "colab": {}
      },
      "source": [
        ""
      ],
      "execution_count": 0,
      "outputs": []
    }
  ]
}