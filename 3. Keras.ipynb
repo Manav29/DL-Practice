{
 "cells": [
  {
   "cell_type": "code",
   "execution_count": 4,
   "metadata": {},
   "outputs": [],
   "source": [
    "from keras.models import Sequential\n",
    "from keras.layers import Dense"
   ]
  },
  {
   "cell_type": "code",
   "execution_count": 5,
   "metadata": {},
   "outputs": [],
   "source": [
    "model = Sequential()"
   ]
  },
  {
   "cell_type": "code",
   "execution_count": 13,
   "metadata": {},
   "outputs": [],
   "source": [
    "model.add(Dense(units=32,activation='relu',input_dim=30))             #H.units,activation,input_shape\n",
    "model.add(Dense(units=16,activation='relu'))\n",
    "model.add(Dense(units=1,activation='sigmoid'))"
   ]
  },
  {
   "cell_type": "code",
   "execution_count": 15,
   "metadata": {},
   "outputs": [
    {
     "name": "stdout",
     "output_type": "stream",
     "text": [
      "Model: \"sequential_2\"\n",
      "_________________________________________________________________\n",
      "Layer (type)                 Output Shape              Param #   \n",
      "=================================================================\n",
      "dense_2 (Dense)              (None, 32)                992       \n",
      "_________________________________________________________________\n",
      "dense_3 (Dense)              (None, 16)                528       \n",
      "_________________________________________________________________\n",
      "dense_4 (Dense)              (None, 1)                 17        \n",
      "=================================================================\n",
      "Total params: 1,537\n",
      "Trainable params: 1,537\n",
      "Non-trainable params: 0\n",
      "_________________________________________________________________\n"
     ]
    }
   ],
   "source": [
    "model.summary()"
   ]
  },
  {
   "cell_type": "code",
   "execution_count": 16,
   "metadata": {},
   "outputs": [],
   "source": [
    "model.compile(optimizer='adam', loss='binary_crossentropy',metrics=['accuracy'])"
   ]
  },
  {
   "cell_type": "code",
   "execution_count": 19,
   "metadata": {},
   "outputs": [],
   "source": [
    "#Getting Data\n",
    "from sklearn import datasets\n",
    "cancer = datasets.load_breast_cancer()\n",
    "\n",
    "from sklearn.model_selection import train_test_split\n",
    "X_train, X_test, y_train, y_test = train_test_split(cancer.data,cancer.target, test_size=0.2, random_state=0)\n",
    "\n",
    "from sklearn.preprocessing import StandardScaler\n",
    "sc = StandardScaler()\n",
    "X_train = sc.fit_transform(X_train)\n",
    "X_test = sc.transform(X_test)"
   ]
  },
  {
   "cell_type": "code",
   "execution_count": 48,
   "metadata": {},
   "outputs": [
    {
     "name": "stdout",
     "output_type": "stream",
     "text": [
      "Train on 455 samples, validate on 114 samples\n",
      "Epoch 1/20\n",
      "455/455 [==============================] - 0s 463us/step - loss: 0.0185 - accuracy: 0.9956 - val_loss: 0.0518 - val_accuracy: 0.9649\n",
      "Epoch 2/20\n",
      "455/455 [==============================] - 0s 61us/step - loss: 0.0181 - accuracy: 0.9956 - val_loss: 0.0544 - val_accuracy: 0.9649\n",
      "Epoch 3/20\n",
      "455/455 [==============================] - 0s 72us/step - loss: 0.0172 - accuracy: 0.9956 - val_loss: 0.0561 - val_accuracy: 0.9649\n",
      "Epoch 4/20\n",
      "455/455 [==============================] - 0s 53us/step - loss: 0.0169 - accuracy: 0.9956 - val_loss: 0.0566 - val_accuracy: 0.9649\n",
      "Epoch 5/20\n",
      "455/455 [==============================] - 0s 46us/step - loss: 0.0164 - accuracy: 0.9956 - val_loss: 0.0571 - val_accuracy: 0.9649\n",
      "Epoch 6/20\n",
      "455/455 [==============================] - 0s 72us/step - loss: 0.0161 - accuracy: 0.9956 - val_loss: 0.0566 - val_accuracy: 0.9649\n",
      "Epoch 7/20\n",
      "455/455 [==============================] - 0s 75us/step - loss: 0.0159 - accuracy: 0.9956 - val_loss: 0.0564 - val_accuracy: 0.9649\n",
      "Epoch 8/20\n",
      "455/455 [==============================] - 0s 66us/step - loss: 0.0156 - accuracy: 0.9978 - val_loss: 0.0558 - val_accuracy: 0.9649\n",
      "Epoch 9/20\n",
      "455/455 [==============================] - 0s 66us/step - loss: 0.0154 - accuracy: 0.9978 - val_loss: 0.0557 - val_accuracy: 0.9649\n",
      "Epoch 10/20\n",
      "455/455 [==============================] - 0s 68us/step - loss: 0.0149 - accuracy: 0.9978 - val_loss: 0.0552 - val_accuracy: 0.9649\n",
      "Epoch 11/20\n",
      "455/455 [==============================] - 0s 68us/step - loss: 0.0152 - accuracy: 0.9978 - val_loss: 0.0536 - val_accuracy: 0.9649\n",
      "Epoch 12/20\n",
      "455/455 [==============================] - 0s 59us/step - loss: 0.0147 - accuracy: 0.9956 - val_loss: 0.0535 - val_accuracy: 0.9649\n",
      "Epoch 13/20\n",
      "455/455 [==============================] - 0s 57us/step - loss: 0.0141 - accuracy: 0.9978 - val_loss: 0.0534 - val_accuracy: 0.9649\n",
      "Epoch 14/20\n",
      "455/455 [==============================] - 0s 68us/step - loss: 0.0139 - accuracy: 0.9978 - val_loss: 0.0542 - val_accuracy: 0.9649\n",
      "Epoch 15/20\n",
      "455/455 [==============================] - 0s 59us/step - loss: 0.0134 - accuracy: 0.9978 - val_loss: 0.0551 - val_accuracy: 0.9649\n",
      "Epoch 16/20\n",
      "455/455 [==============================] - 0s 84us/step - loss: 0.0133 - accuracy: 0.9978 - val_loss: 0.0550 - val_accuracy: 0.9649\n",
      "Epoch 17/20\n",
      "455/455 [==============================] - 0s 75us/step - loss: 0.0129 - accuracy: 0.9978 - val_loss: 0.0552 - val_accuracy: 0.9649\n",
      "Epoch 18/20\n",
      "455/455 [==============================] - 0s 79us/step - loss: 0.0126 - accuracy: 0.9978 - val_loss: 0.0550 - val_accuracy: 0.9649\n",
      "Epoch 19/20\n",
      "455/455 [==============================] - 0s 96us/step - loss: 0.0124 - accuracy: 0.9978 - val_loss: 0.0561 - val_accuracy: 0.9561\n",
      "Epoch 20/20\n",
      "455/455 [==============================] - 0s 77us/step - loss: 0.0121 - accuracy: 0.9978 - val_loss: 0.0557 - val_accuracy: 0.9561\n"
     ]
    },
    {
     "data": {
      "text/plain": [
       "<keras.callbacks.callbacks.History at 0x1b2bae06f28>"
      ]
     },
     "execution_count": 48,
     "metadata": {},
     "output_type": "execute_result"
    }
   ],
   "source": [
    "#model.fit(X_train,y_train)                                               #Only 1 Epoch\n",
    "#model.fit(X_train,y_train,epochs=20)                                      #Batch_size = 32, Default\n",
    "#model.fit(X_train,y_train,epochs=20,batch_size=50)\n",
    "model.fit(X_train,y_train,epochs=20,batch_size=50,validation_data=(X_test,y_test))"
   ]
  },
  {
   "cell_type": "code",
   "execution_count": 51,
   "metadata": {},
   "outputs": [
    {
     "data": {
      "text/plain": [
       "array([[3.13452765e-05],\n",
       "       [9.46990788e-01],\n",
       "       [9.99971628e-01],\n",
       "       [9.99178231e-01],\n",
       "       [9.99956012e-01],\n",
       "       [9.99983191e-01],\n",
       "       [9.99998331e-01],\n",
       "       [9.99994516e-01],\n",
       "       [9.99985576e-01],\n",
       "       [9.99999881e-01],\n",
       "       [4.97805148e-01],\n",
       "       [9.87477779e-01],\n",
       "       [9.99997020e-01],\n",
       "       [4.06398803e-01],\n",
       "       [2.21253574e-01],\n",
       "       [6.18862759e-05],\n",
       "       [9.99998093e-01],\n",
       "       [2.94653063e-07],\n",
       "       [5.00653130e-07],\n",
       "       [7.86626667e-12],\n",
       "       [5.40644487e-06],\n",
       "       [2.89201125e-04],\n",
       "       [9.99679446e-01],\n",
       "       [9.99793947e-01],\n",
       "       [1.54076897e-05],\n",
       "       [9.99964952e-01],\n",
       "       [9.99998093e-01],\n",
       "       [1.12704514e-03],\n",
       "       [9.99975681e-01],\n",
       "       [3.35928725e-08],\n",
       "       [9.99987960e-01],\n",
       "       [6.45967339e-06],\n",
       "       [9.55620527e-01],\n",
       "       [4.18576965e-05],\n",
       "       [1.00000000e+00],\n",
       "       [2.13257445e-05],\n",
       "       [9.94421661e-01],\n",
       "       [1.67293347e-05],\n",
       "       [9.99763548e-01],\n",
       "       [1.66262165e-04],\n",
       "       [1.27519132e-03],\n",
       "       [9.99987364e-01],\n",
       "       [6.04217034e-03],\n",
       "       [9.99998689e-01],\n",
       "       [9.99714911e-01],\n",
       "       [1.32059516e-10],\n",
       "       [1.00000000e+00],\n",
       "       [9.93007183e-01],\n",
       "       [9.99994993e-01],\n",
       "       [3.26699947e-08],\n",
       "       [2.74158515e-06],\n",
       "       [6.94333808e-03],\n",
       "       [1.28738930e-06],\n",
       "       [9.99971867e-01],\n",
       "       [9.99882698e-01],\n",
       "       [9.99991536e-01],\n",
       "       [9.99971747e-01],\n",
       "       [9.92209435e-01],\n",
       "       [9.97577608e-01],\n",
       "       [4.44739003e-11],\n",
       "       [6.37165722e-05],\n",
       "       [1.05757725e-04],\n",
       "       [9.99998808e-01],\n",
       "       [9.99985695e-01],\n",
       "       [7.42830089e-05],\n",
       "       [9.31977451e-01],\n",
       "       [1.09850971e-18],\n",
       "       [2.43122447e-08],\n",
       "       [2.26334258e-08],\n",
       "       [9.99911547e-01],\n",
       "       [3.65337074e-01],\n",
       "       [6.63508715e-08],\n",
       "       [9.99928951e-01],\n",
       "       [4.36037704e-02],\n",
       "       [1.73526815e-09],\n",
       "       [9.93079245e-01],\n",
       "       [9.99998450e-01],\n",
       "       [9.99225259e-01],\n",
       "       [9.99992251e-01],\n",
       "       [9.99995232e-01],\n",
       "       [7.06065539e-03],\n",
       "       [3.56679518e-15],\n",
       "       [4.37948948e-08],\n",
       "       [9.99985576e-01],\n",
       "       [9.96874529e-04],\n",
       "       [9.99997854e-01],\n",
       "       [9.99998331e-01],\n",
       "       [1.00000000e+00],\n",
       "       [1.36599397e-06],\n",
       "       [2.84359951e-15],\n",
       "       [9.99998808e-01],\n",
       "       [3.35163236e-01],\n",
       "       [3.56914669e-01],\n",
       "       [1.71768044e-09],\n",
       "       [9.99827743e-01],\n",
       "       [9.99923229e-01],\n",
       "       [2.88280200e-09],\n",
       "       [9.98961687e-01],\n",
       "       [9.99508262e-01],\n",
       "       [9.99761283e-01],\n",
       "       [1.00000000e+00],\n",
       "       [9.99769747e-01],\n",
       "       [9.99870777e-01],\n",
       "       [9.93467271e-01],\n",
       "       [1.95330031e-07],\n",
       "       [9.99998569e-01],\n",
       "       [1.82077708e-09],\n",
       "       [9.44482565e-01],\n",
       "       [1.05215445e-01],\n",
       "       [1.55782206e-02],\n",
       "       [9.99468267e-01],\n",
       "       [5.64333966e-08],\n",
       "       [1.75224329e-06],\n",
       "       [7.23297656e-01]], dtype=float32)"
      ]
     },
     "execution_count": 51,
     "metadata": {},
     "output_type": "execute_result"
    }
   ],
   "source": [
    "y_pred = model.predict(X_test)\n",
    "y_pred"
   ]
  },
  {
   "cell_type": "code",
   "execution_count": 53,
   "metadata": {},
   "outputs": [
    {
     "name": "stdout",
     "output_type": "stream",
     "text": [
      "114/114 [==============================] - 0s 53us/step\n"
     ]
    },
    {
     "data": {
      "text/plain": [
       "[0.05573834723940021, 0.9561403393745422]"
      ]
     },
     "execution_count": 53,
     "metadata": {},
     "output_type": "execute_result"
    }
   ],
   "source": [
    "score = model.evaluate(X_test,y_test)\n",
    "score             #Loss, Accuracy"
   ]
  },
  {
   "cell_type": "code",
   "execution_count": null,
   "metadata": {},
   "outputs": [],
   "source": []
  }
 ],
 "metadata": {
  "kernelspec": {
   "display_name": "Python 3",
   "language": "python",
   "name": "python3"
  },
  "language_info": {
   "codemirror_mode": {
    "name": "ipython",
    "version": 3
   },
   "file_extension": ".py",
   "mimetype": "text/x-python",
   "name": "python",
   "nbconvert_exporter": "python",
   "pygments_lexer": "ipython3",
   "version": "3.7.1"
  }
 },
 "nbformat": 4,
 "nbformat_minor": 2
}
