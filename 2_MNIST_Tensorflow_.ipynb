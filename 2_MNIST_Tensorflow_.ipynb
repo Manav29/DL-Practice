{
  "nbformat": 4,
  "nbformat_minor": 0,
  "metadata": {
    "colab": {
      "name": "2. MNIST_Tensorflow .ipynb",
      "provenance": []
    },
    "kernelspec": {
      "name": "python3",
      "display_name": "Python 3"
    }
  },
  "cells": [
    {
      "cell_type": "code",
      "metadata": {
        "id": "V-dXIJoQ_SKk",
        "colab_type": "code",
        "colab": {}
      },
      "source": [
        "#!pip install tensorflow==1.0                #Restart Runtime"
      ],
      "execution_count": 0,
      "outputs": []
    },
    {
      "cell_type": "code",
      "metadata": {
        "id": "CC-GWT3C-fyw",
        "colab_type": "code",
        "colab": {}
      },
      "source": [
        "#import tensorflow.compat.v1 as tf\n",
        "import tensorflow as tf"
      ],
      "execution_count": 0,
      "outputs": []
    },
    {
      "cell_type": "code",
      "metadata": {
        "id": "ea_A7gps-j5-",
        "colab_type": "code",
        "colab": {}
      },
      "source": [
        "from tensorflow.examples.tutorials.mnist import input_data"
      ],
      "execution_count": 0,
      "outputs": []
    },
    {
      "cell_type": "code",
      "metadata": {
        "id": "WE7FanC7h9PA",
        "colab_type": "code",
        "colab": {
          "base_uri": "https://localhost:8080/",
          "height": 156
        },
        "outputId": "61a07266-0b2d-4ed8-d1c4-630351937ddf"
      },
      "source": [
        "mnist = input_data.read_data_sets(\"MNIST_data/\")"
      ],
      "execution_count": 13,
      "outputs": [
        {
          "output_type": "stream",
          "text": [
            "Successfully downloaded train-images-idx3-ubyte.gz 9912422 bytes.\n",
            "Extracting MNIST_data/train-images-idx3-ubyte.gz\n",
            "Successfully downloaded train-labels-idx1-ubyte.gz 28881 bytes.\n",
            "Extracting MNIST_data/train-labels-idx1-ubyte.gz\n",
            "Successfully downloaded t10k-images-idx3-ubyte.gz 1648877 bytes.\n",
            "Extracting MNIST_data/t10k-images-idx3-ubyte.gz\n",
            "Successfully downloaded t10k-labels-idx1-ubyte.gz 4542 bytes.\n",
            "Extracting MNIST_data/t10k-labels-idx1-ubyte.gz\n"
          ],
          "name": "stdout"
        }
      ]
    },
    {
      "cell_type": "code",
      "metadata": {
        "id": "xbadnrcWpcu7",
        "colab_type": "code",
        "colab": {
          "base_uri": "https://localhost:8080/",
          "height": 55
        },
        "outputId": "7b85072e-0c04-4adf-a2c6-02903d00e037"
      },
      "source": [
        "mnist"
      ],
      "execution_count": 14,
      "outputs": [
        {
          "output_type": "execute_result",
          "data": {
            "text/plain": [
              "Datasets(train=<tensorflow.contrib.learn.python.learn.datasets.mnist.DataSet object at 0x7f3e567ada20>, validation=<tensorflow.contrib.learn.python.learn.datasets.mnist.DataSet object at 0x7f3e616b9da0>, test=<tensorflow.contrib.learn.python.learn.datasets.mnist.DataSet object at 0x7f3e6aef0d68>)"
            ]
          },
          "metadata": {
            "tags": []
          },
          "execution_count": 14
        }
      ]
    },
    {
      "cell_type": "code",
      "metadata": {
        "id": "rSuneLampuyA",
        "colab_type": "code",
        "colab": {
          "base_uri": "https://localhost:8080/",
          "height": 139
        },
        "outputId": "7503382c-f6bb-461e-df7d-ae0d44c2defa"
      },
      "source": [
        "mnist.train.images                                   #Pixel Values of 55k Images, 784 Each\n",
        "#mnist.train.images[0]                               #Pixel values of 1st Image\n",
        "#mnist.train.images[0].shape                         #784 Pixels "
      ],
      "execution_count": 25,
      "outputs": [
        {
          "output_type": "execute_result",
          "data": {
            "text/plain": [
              "array([[0., 0., 0., ..., 0., 0., 0.],\n",
              "       [0., 0., 0., ..., 0., 0., 0.],\n",
              "       [0., 0., 0., ..., 0., 0., 0.],\n",
              "       ...,\n",
              "       [0., 0., 0., ..., 0., 0., 0.],\n",
              "       [0., 0., 0., ..., 0., 0., 0.],\n",
              "       [0., 0., 0., ..., 0., 0., 0.]], dtype=float32)"
            ]
          },
          "metadata": {
            "tags": []
          },
          "execution_count": 25
        }
      ]
    },
    {
      "cell_type": "code",
      "metadata": {
        "id": "eh947p04pfv9",
        "colab_type": "code",
        "colab": {
          "base_uri": "https://localhost:8080/",
          "height": 35
        },
        "outputId": "b071e8ac-ebfb-4f04-a60f-508f25ffbaf6"
      },
      "source": [
        "mnist.train.images.shape, mnist.validation.images.shape, mnist.test.images.shape         #70k images, 28*28"
      ],
      "execution_count": 19,
      "outputs": [
        {
          "output_type": "execute_result",
          "data": {
            "text/plain": [
              "((55000, 784), (5000, 784), (10000, 784))"
            ]
          },
          "metadata": {
            "tags": []
          },
          "execution_count": 19
        }
      ]
    },
    {
      "cell_type": "code",
      "metadata": {
        "id": "p-6_y1jcrsXG",
        "colab_type": "code",
        "colab": {
          "base_uri": "https://localhost:8080/",
          "height": 35
        },
        "outputId": "4dcc4e99-a496-43cf-feef-37faf2f37e04"
      },
      "source": [
        "mnist.train.labels.shape, mnist.validation.labels.shape, mnist.test.labels.shape        "
      ],
      "execution_count": 29,
      "outputs": [
        {
          "output_type": "execute_result",
          "data": {
            "text/plain": [
              "((55000,), (5000,), (10000,))"
            ]
          },
          "metadata": {
            "tags": []
          },
          "execution_count": 29
        }
      ]
    },
    {
      "cell_type": "code",
      "metadata": {
        "id": "Dmx-cjajpopF",
        "colab_type": "code",
        "colab": {
          "base_uri": "https://localhost:8080/",
          "height": 35
        },
        "outputId": "0bdc2a48-2d91-445f-b402-0c82626252db"
      },
      "source": [
        "mnist.train.labels                   #Label(Digit) for Each Image\n",
        "#mnist.train.labels[0]               #First Training Image is a 7\n",
        "\n",
        "#We Want one hot encoding of labels"
      ],
      "execution_count": 32,
      "outputs": [
        {
          "output_type": "execute_result",
          "data": {
            "text/plain": [
              "array([7, 3, 4, ..., 5, 6, 8], dtype=uint8)"
            ]
          },
          "metadata": {
            "tags": []
          },
          "execution_count": 32
        }
      ]
    },
    {
      "cell_type": "code",
      "metadata": {
        "id": "cFs_Oum5snjS",
        "colab_type": "code",
        "colab": {
          "base_uri": "https://localhost:8080/",
          "height": 87
        },
        "outputId": "8c6e05a3-7e99-45a1-97b6-4369f877bbf8"
      },
      "source": [
        "mnist = input_data.read_data_sets(\"MNIST_data/\", one_hot=True)"
      ],
      "execution_count": 33,
      "outputs": [
        {
          "output_type": "stream",
          "text": [
            "Extracting MNIST_data/train-images-idx3-ubyte.gz\n",
            "Extracting MNIST_data/train-labels-idx1-ubyte.gz\n",
            "Extracting MNIST_data/t10k-images-idx3-ubyte.gz\n",
            "Extracting MNIST_data/t10k-labels-idx1-ubyte.gz\n"
          ],
          "name": "stdout"
        }
      ]
    },
    {
      "cell_type": "code",
      "metadata": {
        "id": "0xXuUoBpvn-D",
        "colab_type": "code",
        "colab": {
          "base_uri": "https://localhost:8080/",
          "height": 35
        },
        "outputId": "f1df418f-2b4c-4603-9f23-e856805cdaf1"
      },
      "source": [
        "mnist.train.labels.shape, mnist.validation.labels.shape, mnist.test.labels.shape        #label - 9 zeros, 1 one"
      ],
      "execution_count": 35,
      "outputs": [
        {
          "output_type": "execute_result",
          "data": {
            "text/plain": [
              "((55000, 10), (5000, 10), (10000, 10))"
            ]
          },
          "metadata": {
            "tags": []
          },
          "execution_count": 35
        }
      ]
    },
    {
      "cell_type": "code",
      "metadata": {
        "id": "uDAlWsoXv2G_",
        "colab_type": "code",
        "colab": {
          "base_uri": "https://localhost:8080/",
          "height": 35
        },
        "outputId": "bc492a68-1d5e-4e3b-c3d6-8b323fa64bcc"
      },
      "source": [
        "mnist.train.labels[0]                #First Training Image is a 7"
      ],
      "execution_count": 37,
      "outputs": [
        {
          "output_type": "execute_result",
          "data": {
            "text/plain": [
              "array([0., 0., 0., 0., 0., 0., 0., 1., 0., 0.])"
            ]
          },
          "metadata": {
            "tags": []
          },
          "execution_count": 37
        }
      ]
    },
    {
      "cell_type": "code",
      "metadata": {
        "id": "Uvil94mev20E",
        "colab_type": "code",
        "colab": {
          "base_uri": "https://localhost:8080/",
          "height": 283
        },
        "outputId": "e0df13bf-606c-4847-98bd-8389107175b4"
      },
      "source": [
        "import matplotlib.pyplot as plt\n",
        "\n",
        "first_image = mnist.train.images[0]                       #Flattened ==> Reshape \n",
        "plt.imshow(first_image.reshape(28,28))\n"
      ],
      "execution_count": 45,
      "outputs": [
        {
          "output_type": "execute_result",
          "data": {
            "text/plain": [
              "<matplotlib.image.AxesImage at 0x7f3e55a77b70>"
            ]
          },
          "metadata": {
            "tags": []
          },
          "execution_count": 45
        },
        {
          "output_type": "display_data",
          "data": {
            "image/png": "[encoded data removed]",
            "text/plain": [
              "<Figure size 432x288 with 1 Axes>"
            ]
          },
          "metadata": {
            "tags": []
          }
        }
      ]
    },
    {
      "cell_type": "code",
      "metadata": {
        "id": "ZfCtkHR6xaKa",
        "colab_type": "code",
        "colab": {
          "base_uri": "https://localhost:8080/",
          "height": 281
        },
        "outputId": "336e9a38-e526-4cbe-98e4-eeb3a3c11b6a"
      },
      "source": [
        "for i in range(9):\n",
        "    plt.subplot(3,3,i+1)\n",
        "    plt.imshow(mnist.train.images[i].reshape(28,28))\n",
        "    plt.title(mnist.train.labels[i].nonzero()[0][0])"
      ],
      "execution_count": 55,
      "outputs": [
        {
          "output_type": "display_data",
          "data": {
            "image/png": "[encoded data removed]",
            "text/plain": [
              "<Figure size 432x288 with 9 Axes>"
            ]
          },
          "metadata": {
            "tags": []
          }
        }
      ]
    },
    {
      "cell_type": "markdown",
      "metadata": {
        "id": "lgpX-TAa4aLJ",
        "colab_type": "text"
      },
      "source": [
        "Initializing Random Numbers\n"
      ]
    },
    {
      "cell_type": "code",
      "metadata": {
        "id": "S0RfgJWPyuIF",
        "colab_type": "code",
        "colab": {
          "base_uri": "https://localhost:8080/",
          "height": 35
        },
        "outputId": "b69bd6cd-8e28-4939-cdb8-938802d515ad"
      },
      "source": [
        "rand = tf.random_normal([1])\n",
        "rand"
      ],
      "execution_count": 69,
      "outputs": [
        {
          "output_type": "execute_result",
          "data": {
            "text/plain": [
              "<tf.Tensor 'random_normal_13:0' shape=(1,) dtype=float32>"
            ]
          },
          "metadata": {
            "tags": []
          },
          "execution_count": 69
        }
      ]
    },
    {
      "cell_type": "code",
      "metadata": {
        "id": "bK0IzAmC4Y1A",
        "colab_type": "code",
        "colab": {
          "base_uri": "https://localhost:8080/",
          "height": 52
        },
        "outputId": "c36ac0c8-79eb-480c-a5f2-0618e9ac7a8c"
      },
      "source": [
        "with tf.Session() as sess:\n",
        "  print(tf.random_normal([1]).eval())\n",
        "  sess.run(tf.global_variables_initializer())\n",
        "  print(rand.eval())"
      ],
      "execution_count": 68,
      "outputs": [
        {
          "output_type": "stream",
          "text": [
            "[0.35465997]\n",
            "[-2.2064207]\n"
          ],
          "name": "stdout"
        }
      ]
    },
    {
      "cell_type": "code",
      "metadata": {
        "id": "C0cNrBZM5L49",
        "colab_type": "code",
        "colab": {}
      },
      "source": [
        "# Initializing Weights\n",
        "n_input = 784\n",
        "n_hidden1 = 256\n",
        "n_hidden2 = 256\n",
        "n_Classes = 10\n",
        "\n",
        "weights = {\n",
        "              'h1' : tf.Variable(tf.random_normal([n_input,n_hidden1])),\n",
        "              'h2' : tf.Variable(tf.random_normal([n_hidden1,n_hidden2])),\n",
        "              'out' : tf.Variable(tf.random_normal([n_hidden2,n_Classes]))     \n",
        "}\n",
        "\n",
        "biases = {\n",
        "              'h1' : tf.Variable(tf.random_normal([n_hidden1])),                 #Biases going to hidden Layer 1\n",
        "              'h2' : tf.Variable(tf.random_normal([n_hidden2])),\n",
        "              'out' : tf.Variable(tf.random_normal([n_Classes]))       \n",
        "}"
      ],
      "execution_count": 0,
      "outputs": []
    },
    {
      "cell_type": "code",
      "metadata": {
        "id": "ihIHHVFs718S",
        "colab_type": "code",
        "colab": {}
      },
      "source": [
        "#Forward Prop\n",
        "def forward_prop(x,weights,biases):\n",
        "  in_layer1 = tf.matmul(x,weights['h1']) + biases['h1']                   #X not known yet\n",
        "  out_layer1 = tf.nn.relu(in_layer1)\n",
        "\n",
        "  in_layer2 = tf.matmul(out_layer1,weights['h2']) + biases['h2'] \n",
        "  out_layer2 = tf.nn.relu(in_layer2) \n",
        "\n",
        "  output = tf.matmul(out_layer2,weights['out']) + biases['out'] \n",
        "\n",
        "  return output"
      ],
      "execution_count": 0,
      "outputs": []
    },
    {
      "cell_type": "code",
      "metadata": {
        "id": "OgmZGDjEhf6a",
        "colab_type": "code",
        "colab": {}
      },
      "source": [
        "x = tf.placeholder(\"float\",[None,n_input])\n",
        "y = tf.placeholder(tf.int32,[None,n_Classes])"
      ],
      "execution_count": 0,
      "outputs": []
    },
    {
      "cell_type": "code",
      "metadata": {
        "id": "Yj4JEENzhxTu",
        "colab_type": "code",
        "colab": {}
      },
      "source": [
        "pred = forward_prop(x,weights,biases)"
      ],
      "execution_count": 0,
      "outputs": []
    },
    {
      "cell_type": "code",
      "metadata": {
        "id": "k468L8R9h3ja",
        "colab_type": "code",
        "colab": {}
      },
      "source": [
        "cost = tf.reduce_mean(tf.nn.softmax_cross_entropy_with_logits(logits=pred,labels=y))"
      ],
      "execution_count": 0,
      "outputs": []
    },
    {
      "cell_type": "code",
      "metadata": {
        "id": "A6RGi2QliScw",
        "colab_type": "code",
        "colab": {}
      },
      "source": [
        "optimizer = tf.train.AdamOptimizer(learning_rate=0.01)\n",
        "optimize = optimizer.minimize(cost)"
      ],
      "execution_count": 0,
      "outputs": []
    },
    {
      "cell_type": "code",
      "metadata": {
        "id": "kYD-VRhNjp2h",
        "colab_type": "code",
        "colab": {}
      },
      "source": [
        "sess = tf.Session()\n",
        "sess.run(tf.global_variables_initializer())"
      ],
      "execution_count": 0,
      "outputs": []
    },
    {
      "cell_type": "code",
      "metadata": {
        "id": "NPNBLMjHmMfb",
        "colab_type": "code",
        "colab": {
          "base_uri": "https://localhost:8080/",
          "height": 35
        },
        "outputId": "08c25cce-177e-492e-f84d-09f31bb4eb98"
      },
      "source": [
        "for i in range(10):\n",
        "  c,_= sess.run([cost,optimize],feed_dict={x:mnist.train.images,y:mnist.train.labels})\n",
        "  print(int(c),end=' ')"
      ],
      "execution_count": 139,
      "outputs": [
        {
          "output_type": "stream",
          "text": [
            "1972 1203 810 688 589 477 358 254 200 180 "
          ],
          "name": "stdout"
        }
      ]
    },
    {
      "cell_type": "code",
      "metadata": {
        "id": "nacbVY7Rig4p",
        "colab_type": "code",
        "colab": {
          "base_uri": "https://localhost:8080/",
          "height": 35
        },
        "outputId": "579f8334-cd02-4ea2-d5c2-3fa1c5f8b222"
      },
      "source": [
        "batch_size = 100\n",
        "for i in range(10):                   #NumIterations\n",
        "  num_batches = int(mnist.train.num_examples/batch_size)\n",
        "  total_cost = 0\n",
        "  for i in range(num_batches):\n",
        "    batch_x,batch_y = mnist.train.next_batch(batch_size)\n",
        "    c , _ = sess.run([cost,optimize],feed_dict={x:batch_x,y:batch_y})\n",
        "    total_cost += c\n",
        "  print(int(total_cost), end=' ')"
      ],
      "execution_count": 141,
      "outputs": [
        {
          "output_type": "stream",
          "text": [
            "1009 778 807 682 571 543 513 408 371 364 "
          ],
          "name": "stdout"
        }
      ]
    },
    {
      "cell_type": "code",
      "metadata": {
        "id": "h5A70Vy1jn1E",
        "colab_type": "code",
        "colab": {
          "base_uri": "https://localhost:8080/",
          "height": 35
        },
        "outputId": "d718baa0-1b0b-4be1-9ea4-ff5f2187640e"
      },
      "source": [
        "predictions = tf.argmax(pred,1)\n",
        "correct_labels = tf.argmax(y,1)\n",
        "\n",
        "correct_predictions = tf.equal(predictions,correct_labels)\n",
        "\n",
        "predictions, correct_predictions = sess.run([predictions,correct_predictions],feed_dict={x:mnist.test.images,y:mnist.test.labels})\n",
        "correct_predictions.sum()              #96% Accuracy"
      ],
      "execution_count": 144,
      "outputs": [
        {
          "output_type": "execute_result",
          "data": {
            "text/plain": [
              "9601"
            ]
          },
          "metadata": {
            "tags": []
          },
          "execution_count": 144
        }
      ]
    },
    {
      "cell_type": "code",
      "metadata": {
        "id": "Ox0EJt0Ko9jl",
        "colab_type": "code",
        "colab": {
          "base_uri": "https://localhost:8080/",
          "height": 35
        },
        "outputId": "e597a1a2-eb06-45d1-8923-3c781f0637cb"
      },
      "source": [
        "print(\"Accuracy =\", correct_predictions.sum()*100/mnist.test.num_examples,\"%\")"
      ],
      "execution_count": 149,
      "outputs": [
        {
          "output_type": "stream",
          "text": [
            "Accuracy = 96.01 %\n"
          ],
          "name": "stdout"
        }
      ]
    },
    {
      "cell_type": "code",
      "metadata": {
        "id": "D3ggX7GSpnEO",
        "colab_type": "code",
        "colab": {}
      },
      "source": [
        ""
      ],
      "execution_count": 0,
      "outputs": []
    }
  ]
}